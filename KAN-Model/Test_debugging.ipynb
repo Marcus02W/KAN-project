{
 "cells": [
  {
   "cell_type": "markdown",
   "id": "a3885aa0",
   "metadata": {},
   "source": [
    "torch.linalg.lstsq\n",
    "\n",
    "Diese Test findest du im KAN Repo im Ordner kan-> splines.py"
   ]
  },
  {
   "cell_type": "code",
   "execution_count": 30,
   "id": "65201f3f",
   "metadata": {},
   "outputs": [
    {
     "name": "stdout",
     "output_type": "stream",
     "text": [
      "coef shape: torch.Size([64, 1, 6])\n"
     ]
    }
   ],
   "source": [
    "import torch\n",
    "\n",
    "# Beispielhafte Initialisierung von mat und y_eval\n",
    "mat = torch.randn(64, 1, 10000, 6)\n",
    "y_eval = torch.randn(64, 1, 10000, 1)\n",
    "device = 'cpu'  # oder 'cuda', wenn eine GPU verwendet wird\n",
    "\n",
    "# Lösen des linearen Gleichungssystems mit torch.linalg.lstsq\n",
    "result = torch.linalg.lstsq(mat.to(device), y_eval.to(device), driver='gelsy' if device == 'cpu' else 'gels')\n",
    "\n",
    "# Extrahieren der Lösung\n",
    "coef = result.solution[:,:,:,0]\n",
    "\n",
    "# Überprüfen der Dimensionen der Lösung\n",
    "print(f\"coef shape: {coef.shape}\")"
   ]
  },
  {
   "cell_type": "code",
   "execution_count": 31,
   "id": "e09ae0cf",
   "metadata": {},
   "outputs": [],
   "source": [
    "import torch\n",
    "\n",
    "# Einlesen der Tensoren\n",
    "x_eval = torch.load('./x_eval.pt')\n",
    "grid = torch.load('./grid.pt')\n",
    "y_eval_tensor = torch.load('./y_eval_tensor.pt')\n",
    "mat_per_tensor = torch.load('./mat_per_tensor.pt')"
   ]
  },
  {
   "cell_type": "code",
   "execution_count": 32,
   "id": "a5e0e44a",
   "metadata": {},
   "outputs": [],
   "source": [
    "def check_tensor(tensor, tensor_name=\"tensor\"):\n",
    "    print(f\"Checking tensor: {tensor_name}\")\n",
    "    \n",
    "    # Überprüfen der Form des gesamten Tensors\n",
    "    print(f\"Shape of {tensor_name}: {tensor.shape}\")\n",
    "    \n",
    "    # Überprüfen, ob der Tensor NaN-Werte enthält\n",
    "    contains_nan = torch.isnan(tensor).any()\n",
    "    print(f\"{tensor_name} contains NaN: {contains_nan}\")\n",
    "    \n",
    "    # Überprüfen, ob der Tensor nur aus NaN-Werten besteht\n",
    "    only_nan = torch.isnan(tensor).all()\n",
    "    print(f\"{tensor_name} contains only NaN: {only_nan}\")\n",
    "\n",
    "    # Überprüfen, ob der Tensor nur aus Nullen besteht\n",
    "    contains_only_zeros = torch.eq(tensor, 0).all()\n",
    "    print(f\"{tensor_name} contains only zeros: {contains_only_zeros}\")\n",
    "    \n",
    "    # Höchsten und niedrigsten Wert berechnen, NaNs ignorieren\n",
    "    if contains_nan:\n",
    "        tensor_without_nan = tensor[~torch.isnan(tensor)]\n",
    "        if tensor_without_nan.numel() > 0:\n",
    "            max_value = torch.max(tensor_without_nan)\n",
    "            min_value = torch.min(tensor_without_nan)\n",
    "            print(f\"Max value in {tensor_name} (ignoring NaNs): {max_value.item()}\")\n",
    "            print(f\"Min value in {tensor_name} (ignoring NaNs): {min_value.item()}\")\n",
    "        else:\n",
    "            print(f\"Cannot compute max/min values in {tensor_name}: Tensor contains only NaNs\")\n",
    "    else:\n",
    "        max_value = torch.max(tensor)\n",
    "        min_value = torch.min(tensor)\n",
    "        print(f\"Max value in {tensor_name}: {max_value.item()}\")\n",
    "        print(f\"Min value in {tensor_name}: {min_value.item()}\")\n",
    "    \n",
    "    print()"
   ]
  },
  {
   "cell_type": "code",
   "execution_count": 39,
   "id": "ca393666",
   "metadata": {},
   "outputs": [
    {
     "name": "stdout",
     "output_type": "stream",
     "text": [
      "Checking tensor: x_eval\n",
      "Shape of x_eval: torch.Size([10000, 784])\n",
      "x_eval contains NaN: False\n",
      "x_eval contains only NaN: False\n",
      "x_eval contains only zeros: False\n",
      "Max value in x_eval: 255.0\n",
      "Min value in x_eval: 0.0\n",
      "\n",
      "Checking tensor: mat_tensor\n",
      "Shape of mat_tensor: torch.Size([10000, 784, 6])\n",
      "mat_tensor contains NaN: True\n",
      "mat_tensor contains only NaN: False\n",
      "mat_tensor contains only zeros: False\n",
      "Max value in mat_tensor (ignoring NaNs): 0.6666666865348816\n",
      "Min value in mat_tensor (ignoring NaNs): 0.0\n",
      "\n",
      "Checking tensor: grid\n",
      "Shape of grid: torch.Size([784, 10])\n",
      "grid contains NaN: False\n",
      "grid contains only NaN: False\n",
      "grid contains only zeros: False\n",
      "Max value in grid: 510.0\n",
      "Min value in grid: -255.0\n",
      "\n",
      "Checking tensor: y_eval_tensor\n",
      "Shape of y_eval_tensor: torch.Size([10000, 784, 1])\n",
      "y_eval_tensor contains NaN: False\n",
      "y_eval_tensor contains only NaN: False\n",
      "y_eval_tensor contains only zeros: False\n",
      "Max value in y_eval_tensor: 0.1982683539390564\n",
      "Min value in y_eval_tensor: -0.19842682778835297\n",
      "\n",
      "Checking tensor: mat_per_tensor\n",
      "Shape of mat_per_tensor: torch.Size([784, 1, 10000, 6])\n",
      "mat_per_tensor contains NaN: True\n",
      "mat_per_tensor contains only NaN: False\n",
      "mat_per_tensor contains only zeros: False\n",
      "Max value in mat_per_tensor (ignoring NaNs): 0.6666666865348816\n",
      "Min value in mat_per_tensor (ignoring NaNs): 0.0\n",
      "\n",
      "Checking tensor: mat_self\n",
      "Shape of mat_self: torch.Size([10000, 784, 6])\n",
      "mat_self contains NaN: True\n",
      "mat_self contains only NaN: False\n",
      "mat_self contains only zeros: False\n",
      "Max value in mat_self (ignoring NaNs): 0.6666666865348816\n",
      "Min value in mat_self (ignoring NaNs): 0.0\n",
      "\n"
     ]
    }
   ],
   "source": [
    "# Überprüfen der Tensoren\n",
    "check_tensor(x_eval, \"x_eval\")\n",
    "check_tensor(grid, \"grid\")\n",
    "check_tensor(y_eval_tensor, \"y_eval_tensor\")\n",
    "check_tensor(mat_per_tensor, \"mat_per_tensor\")\n",
    "check_tensor(mat_self, \"mat_self\")"
   ]
  },
  {
   "cell_type": "markdown",
   "id": "7fb1930f",
   "metadata": {},
   "source": [
    "Test_B_batch"
   ]
  },
  {
   "cell_type": "code",
   "execution_count": 46,
   "id": "dacdf092",
   "metadata": {},
   "outputs": [],
   "source": [
    "def B_batch(x, grid, k=0, extend=True, device='cpu'):\n",
    "    '''\n",
    "    evaludate x on B-spline bases\n",
    "    \n",
    "    Args:\n",
    "    -----\n",
    "        x : 2D torch.tensor\n",
    "            inputs, shape (number of splines, number of samples)\n",
    "        grid : 2D torch.tensor\n",
    "            grids, shape (number of splines, number of grid points)\n",
    "        k : int\n",
    "            the piecewise polynomial order of splines.\n",
    "        extend : bool\n",
    "            If True, k points are extended on both ends. If False, no extension (zero boundary condition). Default: True\n",
    "        device : str\n",
    "            devicde\n",
    "    \n",
    "    Returns:\n",
    "    --------\n",
    "        spline values : 3D torch.tensor\n",
    "            shape (number of splines, number of B-spline bases (coeffcients), number of samples). The numbef of B-spline bases = number of grid points + k - 1.\n",
    "      \n",
    "    Example\n",
    "    -------\n",
    "    >>> num_spline = 5\n",
    "    >>> num_sample = 100\n",
    "    >>> num_grid_interval = 10\n",
    "    >>> k = 3\n",
    "    >>> x = torch.normal(0,1,size=(num_spline, num_sample))\n",
    "    >>> grids = torch.einsum('i,j->ij', torch.ones(num_spline,), torch.linspace(-1,1,steps=num_grid_interval+1))\n",
    "    >>> B_batch(x, grids, k=k).shape\n",
    "    torch.Size([5, 13, 100])\n",
    "    '''\n",
    "\n",
    "    '''# x shape: (size, x); grid shape: (size, grid)\n",
    "    def extend_grid(grid, k_extend=0):\n",
    "        # pad k to left and right\n",
    "        # grid shape: (batch, grid)\n",
    "        h = (grid[:, [-1]] - grid[:, [0]]) / (grid.shape[1] - 1)\n",
    "\n",
    "        for i in range(k_extend):\n",
    "            grid = torch.cat([grid[:, [0]] - h, grid], dim=1)\n",
    "            grid = torch.cat([grid, grid[:, [-1]] + h], dim=1)\n",
    "        grid = grid.to(device)\n",
    "        return grid\n",
    "\n",
    "    if extend == True:\n",
    "        grid = extend_grid(grid, k_extend=k)\n",
    "\n",
    "    grid = grid.unsqueeze(dim=2).to(device)\n",
    "    x = x.unsqueeze(dim=1).to(device)\n",
    "\n",
    "    if k == 0:\n",
    "        value = (x >= grid[:, :-1]) * (x < grid[:, 1:])\n",
    "    else:\n",
    "        B_km1 = B_batch(x[:, 0], grid=grid[:, :, 0], k=k - 1, extend=False, device=device)\n",
    "        value = (x - grid[:, :-(k + 1)]) / (grid[:, k:-1] - grid[:, :-(k + 1)]) * B_km1[:, :-1] + (\n",
    "                    grid[:, k + 1:] - x) / (grid[:, k + 1:] - grid[:, 1:(-k)]) * B_km1[:, 1:]'''\n",
    "    \n",
    "    x = x.unsqueeze(dim=2).to(device)\n",
    "    grid = grid.unsqueeze(dim=0).to(device)\n",
    "    \n",
    "    if k == 0:\n",
    "        value = (x >= grid[:, :, :-1]) * (x < grid[:, :, 1:])\n",
    "    else:\n",
    "        B_km1 = B_batch(x[:,:,0], grid=grid[0], k=k - 1, device=device)\n",
    "        epsilon = 1e-10\n",
    "        trick1 = (grid[:, :, k:-1] - grid[:, :, :-(k + 1)])+epsilon\n",
    "        trick2 = (grid[:, :, k + 1:] - grid[:, :, 1:(-k)])+epsilon\n",
    "        value = (x - grid[:, :, :-(k + 1)]) / trick1 * B_km1[:, :, :-1] + (\n",
    "                    grid[:, :, k + 1:] - x) / trick2 * B_km1[:, :, 1:]\n",
    "    return value"
   ]
  },
  {
   "cell_type": "markdown",
   "id": "34df0784",
   "metadata": {},
   "source": [
    "Orginal B_batch"
   ]
  },
  {
   "cell_type": "code",
   "execution_count": 34,
   "id": "a9a85bad",
   "metadata": {},
   "outputs": [],
   "source": [
    "def B_batch(x, grid, k=0, extend=True, device='cpu'):\n",
    "    '''\n",
    "    evaludate x on B-spline bases\n",
    "    \n",
    "    Args:\n",
    "    -----\n",
    "        x : 2D torch.tensor\n",
    "            inputs, shape (number of splines, number of samples)\n",
    "        grid : 2D torch.tensor\n",
    "            grids, shape (number of splines, number of grid points)\n",
    "        k : int\n",
    "            the piecewise polynomial order of splines.\n",
    "        extend : bool\n",
    "            If True, k points are extended on both ends. If False, no extension (zero boundary condition). Default: True\n",
    "        device : str\n",
    "            devicde\n",
    "    \n",
    "    Returns:\n",
    "    --------\n",
    "        spline values : 3D torch.tensor\n",
    "            shape (number of splines, number of B-spline bases (coeffcients), number of samples). The numbef of B-spline bases = number of grid points + k - 1.\n",
    "      \n",
    "    Example\n",
    "    -------\n",
    "    >>> num_spline = 5\n",
    "    >>> num_sample = 100\n",
    "    >>> num_grid_interval = 10\n",
    "    >>> k = 3\n",
    "    >>> x = torch.normal(0,1,size=(num_spline, num_sample))\n",
    "    >>> grids = torch.einsum('i,j->ij', torch.ones(num_spline,), torch.linspace(-1,1,steps=num_grid_interval+1))\n",
    "    >>> B_batch(x, grids, k=k).shape\n",
    "    torch.Size([5, 13, 100])\n",
    "    '''\n",
    "\n",
    "    '''# x shape: (size, x); grid shape: (size, grid)\n",
    "    def extend_grid(grid, k_extend=0):\n",
    "        # pad k to left and right\n",
    "        # grid shape: (batch, grid)\n",
    "        h = (grid[:, [-1]] - grid[:, [0]]) / (grid.shape[1] - 1)\n",
    "\n",
    "        for i in range(k_extend):\n",
    "            grid = torch.cat([grid[:, [0]] - h, grid], dim=1)\n",
    "            grid = torch.cat([grid, grid[:, [-1]] + h], dim=1)\n",
    "        grid = grid.to(device)\n",
    "        return grid\n",
    "\n",
    "    if extend == True:\n",
    "        grid = extend_grid(grid, k_extend=k)\n",
    "\n",
    "    grid = grid.unsqueeze(dim=2).to(device)\n",
    "    x = x.unsqueeze(dim=1).to(device)\n",
    "\n",
    "    if k == 0:\n",
    "        value = (x >= grid[:, :-1]) * (x < grid[:, 1:])\n",
    "    else:\n",
    "        B_km1 = B_batch(x[:, 0], grid=grid[:, :, 0], k=k - 1, extend=False, device=device)\n",
    "        value = (x - grid[:, :-(k + 1)]) / (grid[:, k:-1] - grid[:, :-(k + 1)]) * B_km1[:, :-1] + (\n",
    "                    grid[:, k + 1:] - x) / (grid[:, k + 1:] - grid[:, 1:(-k)]) * B_km1[:, 1:]'''\n",
    "    \n",
    "    x = x.unsqueeze(dim=2).to(device)\n",
    "    grid = grid.unsqueeze(dim=0).to(device)\n",
    "    \n",
    "    if k == 0:\n",
    "        value = (x >= grid[:, :, :-1]) * (x < grid[:, :, 1:])\n",
    "    else:\n",
    "        B_km1 = B_batch(x[:,:,0], grid=grid[0], k=k - 1, device=device)\n",
    "        \n",
    "        value = (x - grid[:, :, :-(k + 1)]) / (grid[:, :, k:-1] - grid[:, :, :-(k + 1)]) * B_km1[:, :, :-1] + (\n",
    "                    grid[:, :, k + 1:] - x) / (grid[:, :, k + 1:] - grid[:, :, 1:(-k)]) * B_km1[:, :, 1:]\n",
    "    return value"
   ]
  },
  {
   "cell_type": "code",
   "execution_count": 40,
   "id": "c9bb668e",
   "metadata": {},
   "outputs": [
    {
     "data": {
      "text/plain": [
       "torch.Size([784, 10])"
      ]
     },
     "execution_count": 40,
     "metadata": {},
     "output_type": "execute_result"
    }
   ],
   "source": [
    "grid.shape"
   ]
  },
  {
   "cell_type": "code",
   "execution_count": 41,
   "id": "40135159",
   "metadata": {},
   "outputs": [
    {
     "data": {
      "text/plain": [
       "Parameter containing:\n",
       "tensor([[0., 0., 0.,  ..., 0., 0., 0.],\n",
       "        [0., 0., 0.,  ..., 0., 0., 0.],\n",
       "        [0., 0., 0.,  ..., 0., 0., 0.],\n",
       "        ...,\n",
       "        [0., 0., 0.,  ..., 0., 0., 0.],\n",
       "        [0., 0., 0.,  ..., 0., 0., 0.],\n",
       "        [0., 0., 0.,  ..., 0., 0., 0.]])"
      ]
     },
     "execution_count": 41,
     "metadata": {},
     "output_type": "execute_result"
    }
   ],
   "source": [
    "grid"
   ]
  },
  {
   "cell_type": "code",
   "execution_count": 35,
   "id": "e5a29f81",
   "metadata": {},
   "outputs": [
    {
     "data": {
      "text/plain": [
       "torch.Size([10000, 784])"
      ]
     },
     "execution_count": 35,
     "metadata": {},
     "output_type": "execute_result"
    }
   ],
   "source": [
    "x_eval.shape"
   ]
  },
  {
   "cell_type": "code",
   "execution_count": 36,
   "id": "03b35aac",
   "metadata": {},
   "outputs": [
    {
     "data": {
      "text/plain": [
       "tensor([[0., 0., 0.,  ..., 0., 0., 0.],\n",
       "        [0., 0., 0.,  ..., 0., 0., 0.],\n",
       "        [0., 0., 0.,  ..., 0., 0., 0.],\n",
       "        ...,\n",
       "        [0., 0., 0.,  ..., 0., 0., 0.],\n",
       "        [0., 0., 0.,  ..., 0., 0., 0.],\n",
       "        [0., 0., 0.,  ..., 0., 0., 0.]])"
      ]
     },
     "execution_count": 36,
     "metadata": {},
     "output_type": "execute_result"
    }
   ],
   "source": [
    "x_eval"
   ]
  },
  {
   "cell_type": "code",
   "execution_count": 47,
   "id": "9f96b554",
   "metadata": {},
   "outputs": [],
   "source": [
    "mat_self = B_batch(x_eval, grid, 3)"
   ]
  },
  {
   "cell_type": "code",
   "execution_count": 48,
   "id": "fad72174",
   "metadata": {},
   "outputs": [
    {
     "data": {
      "text/plain": [
       "tensor([[[0., 0., 0., 0., 0., 0.],\n",
       "         [0., 0., 0., 0., 0., 0.],\n",
       "         [0., 0., 0., 0., 0., 0.],\n",
       "         ...,\n",
       "         [0., 0., 0., 0., 0., 0.],\n",
       "         [0., 0., 0., 0., 0., 0.],\n",
       "         [0., 0., 0., 0., 0., 0.]],\n",
       "\n",
       "        [[0., 0., 0., 0., 0., 0.],\n",
       "         [0., 0., 0., 0., 0., 0.],\n",
       "         [0., 0., 0., 0., 0., 0.],\n",
       "         ...,\n",
       "         [0., 0., 0., 0., 0., 0.],\n",
       "         [0., 0., 0., 0., 0., 0.],\n",
       "         [0., 0., 0., 0., 0., 0.]],\n",
       "\n",
       "        [[0., 0., 0., 0., 0., 0.],\n",
       "         [0., 0., 0., 0., 0., 0.],\n",
       "         [0., 0., 0., 0., 0., 0.],\n",
       "         ...,\n",
       "         [0., 0., 0., 0., 0., 0.],\n",
       "         [0., 0., 0., 0., 0., 0.],\n",
       "         [0., 0., 0., 0., 0., 0.]],\n",
       "\n",
       "        ...,\n",
       "\n",
       "        [[0., 0., 0., 0., 0., 0.],\n",
       "         [0., 0., 0., 0., 0., 0.],\n",
       "         [0., 0., 0., 0., 0., 0.],\n",
       "         ...,\n",
       "         [0., 0., 0., 0., 0., 0.],\n",
       "         [0., 0., 0., 0., 0., 0.],\n",
       "         [0., 0., 0., 0., 0., 0.]],\n",
       "\n",
       "        [[0., 0., 0., 0., 0., 0.],\n",
       "         [0., 0., 0., 0., 0., 0.],\n",
       "         [0., 0., 0., 0., 0., 0.],\n",
       "         ...,\n",
       "         [0., 0., 0., 0., 0., 0.],\n",
       "         [0., 0., 0., 0., 0., 0.],\n",
       "         [0., 0., 0., 0., 0., 0.]],\n",
       "\n",
       "        [[0., 0., 0., 0., 0., 0.],\n",
       "         [0., 0., 0., 0., 0., 0.],\n",
       "         [0., 0., 0., 0., 0., 0.],\n",
       "         ...,\n",
       "         [0., 0., 0., 0., 0., 0.],\n",
       "         [0., 0., 0., 0., 0., 0.],\n",
       "         [0., 0., 0., 0., 0., 0.]]])"
      ]
     },
     "execution_count": 48,
     "metadata": {},
     "output_type": "execute_result"
    }
   ],
   "source": [
    "mat_self"
   ]
  }
 ],
 "metadata": {
  "kernelspec": {
   "display_name": "Python 3 (ipykernel)",
   "language": "python",
   "name": "python3"
  },
  "language_info": {
   "codemirror_mode": {
    "name": "ipython",
    "version": 3
   },
   "file_extension": ".py",
   "mimetype": "text/x-python",
   "name": "python",
   "nbconvert_exporter": "python",
   "pygments_lexer": "ipython3",
   "version": "3.10.14"
  }
 },
 "nbformat": 4,
 "nbformat_minor": 5
}
