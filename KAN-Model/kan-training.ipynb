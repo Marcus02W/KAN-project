version https://git-lfs.github.com/spec/v1
oid sha256:d4b9ed392260433af2c5bcb70963cae236f0dcf5d47ec09b3c00f4b4b831fc19
size 214052
