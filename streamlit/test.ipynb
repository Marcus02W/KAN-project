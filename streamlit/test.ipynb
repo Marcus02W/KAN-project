{
 "cells": [
  {
   "cell_type": "code",
   "execution_count": 20,
   "metadata": {},
   "outputs": [],
   "source": [
    "import os"
   ]
  },
  {
   "cell_type": "code",
   "execution_count": 21,
   "metadata": {},
   "outputs": [],
   "source": [
    "mlp_folder_path = \"../models/MLP\"\n",
    "folders = [f for f in os.listdir(mlp_folder_path) if os.path.isdir(os.path.join(mlp_folder_path, f))]\n",
    "folders = folders[1:]\n",
    "model_path_names = folders.copy()\n",
    "# Models names are structured like this: MNIST_{num_hidden_layer}_{hidden_size}_{total_params}_{result}\n",
    "# Model name should be HiddenLayer{num_hidden_layer}_HiddenSize{hidden_size}_TotalParams{total_params}_Result{result}\n",
    "model_names = [f\"HiddenLayer{f.split('_')[1]}_HiddenSize{f.split('_')[2]}_TotalParams{f.split('_')[3]}_Result{f.split('_')[4]}\" for f in folders]"
   ]
  },
  {
   "cell_type": "code",
   "execution_count": 24,
   "metadata": {},
   "outputs": [
    {
     "name": "stdout",
     "output_type": "stream",
     "text": [
      "['MNIST_1_16_1210_86.85', 'MNIST_1_32_2410_89.85', 'MNIST_1_64_4810_90.99', 'MNIST_1_8_610_70.85', 'MNIST_2_16_1482_83.28', 'MNIST_2_32_3466_89.23', 'MNIST_2_64_8970_83.57', 'MNIST_2_8_682_67.04', 'MNIST_3_16_1754_84.61', 'MNIST_3_32_4522_89.47', 'MNIST_3_64_13130_92.77', 'MNIST_3_8_754_71.04', 'MNIST_4_16_2026_79.67', 'MNIST_4_32_5578_89.8', 'MNIST_4_64_17290_93.45', 'MNIST_4_8_826_59.81']\n"
     ]
    }
   ],
   "source": [
    "print(model_path_names)"
   ]
  },
  {
   "cell_type": "code",
   "execution_count": 25,
   "metadata": {},
   "outputs": [
    {
     "name": "stdout",
     "output_type": "stream",
     "text": [
      "['HiddenLayer1_HiddenSize16_TotalParams1210_Result86.85', 'HiddenLayer1_HiddenSize32_TotalParams2410_Result89.85', 'HiddenLayer1_HiddenSize64_TotalParams4810_Result90.99', 'HiddenLayer1_HiddenSize8_TotalParams610_Result70.85', 'HiddenLayer2_HiddenSize16_TotalParams1482_Result83.28', 'HiddenLayer2_HiddenSize32_TotalParams3466_Result89.23', 'HiddenLayer2_HiddenSize64_TotalParams8970_Result83.57', 'HiddenLayer2_HiddenSize8_TotalParams682_Result67.04', 'HiddenLayer3_HiddenSize16_TotalParams1754_Result84.61', 'HiddenLayer3_HiddenSize32_TotalParams4522_Result89.47', 'HiddenLayer3_HiddenSize64_TotalParams13130_Result92.77', 'HiddenLayer3_HiddenSize8_TotalParams754_Result71.04', 'HiddenLayer4_HiddenSize16_TotalParams2026_Result79.67', 'HiddenLayer4_HiddenSize32_TotalParams5578_Result89.8', 'HiddenLayer4_HiddenSize64_TotalParams17290_Result93.45', 'HiddenLayer4_HiddenSize8_TotalParams826_Result59.81']\n"
     ]
    }
   ],
   "source": [
    "print(model_names)"
   ]
  }
 ],
 "metadata": {
  "kernelspec": {
   "display_name": "base",
   "language": "python",
   "name": "python3"
  },
  "language_info": {
   "codemirror_mode": {
    "name": "ipython",
    "version": 3
   },
   "file_extension": ".py",
   "mimetype": "text/x-python",
   "name": "python",
   "nbconvert_exporter": "python",
   "pygments_lexer": "ipython3",
   "version": "3.11.7"
  }
 },
 "nbformat": 4,
 "nbformat_minor": 2
}
