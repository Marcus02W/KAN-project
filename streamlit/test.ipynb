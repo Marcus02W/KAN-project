version https://git-lfs.github.com/spec/v1
oid sha256:c2b3f40e99dcf338f5bebf9cdddac3e962f459a1c72321a334054b0ab550d03d
size 15439
