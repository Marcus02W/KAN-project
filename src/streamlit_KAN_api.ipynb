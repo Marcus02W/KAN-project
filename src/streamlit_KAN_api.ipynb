{
 "cells": [
  {
   "cell_type": "code",
   "execution_count": 1,
   "metadata": {},
   "outputs": [],
   "source": [
    "from KAN_VIS_statik import kan_weights_vis\n",
    "from KAN_for import df_foward_kan\n",
    "import os\n",
    "os.chdir('../KAN-Model')\n",
    "from kan_local import KAN\n",
    "from kan_local import MultKAN\n",
    "import torch"
   ]
  },
  {
   "cell_type": "code",
   "execution_count": 2,
   "metadata": {},
   "outputs": [],
   "source": [
    "#data sollte schon früher eingeladen werden um auführungszeit zu sparen\n",
    "dataset = torch.load('../data/MNIST/mnist_train_input.pth')\n",
    "data_test = torch.load('../data/MNIST/mnist_test_input.pth')\n",
    "original_img = data_test['test_input'][:1]"
   ]
  },
  {
   "cell_type": "code",
   "execution_count": 3,
   "metadata": {},
   "outputs": [],
   "source": [
    "def streamlit_kan_static_api(path: str,hidden_1: int, hidden_2: int) -> None:\n",
    "    # params model\n",
    "    hidden_1 = hidden_1\n",
    "    hidden_2 = hidden_2\n",
    "    input_dim = dataset['train_input'].shape[ 1 ]   # Anzahl der Eingabefunktionen\n",
    "    output_dim = 10   # Anzahl der Klasse\n",
    "    #load model\n",
    "    if hidden_2 != 0:   \n",
    "        model = KAN(width=[input_dim, hidden_1, hidden_2, output_dim], grid= 3 , k= 3 , seed= 42)\n",
    "    else:\n",
    "        model = KAN(width=[input_dim, hidden_1, output_dim], grid= 3 , k= 3 , seed= 42) \n",
    "    model = model.loadckpt(path)\n",
    "    img = kan_weights_vis(model,2)\n",
    "    \n",
    "    return img"
   ]
  },
  {
   "cell_type": "code",
   "execution_count": 4,
   "metadata": {},
   "outputs": [
    {
     "name": "stdout",
     "output_type": "stream",
     "text": [
      "checkpoint directory created: ./model\n",
      "saving model version 0.0\n",
      "Aktuelles Verzeichnis: c:\\Users\\a829688\\OneDrive - Eviden\\Documents\\DHBW\\6 Sechstes Semester\\AML\\KAN-project\\KAN-Model\n",
      "Input shape: torch.Size([10000, 64])\n",
      "Expected width: 64\n"
     ]
    }
   ],
   "source": [
    "from PIL import Image\n",
    "img = streamlit_kan_static_api(\"./Modelle/model_mnist_h_3_s_45_g_3_k_3\",3,0)\n",
    "img.show()"
   ]
  },
  {
   "cell_type": "code",
   "execution_count": 5,
   "metadata": {},
   "outputs": [],
   "source": [
    "def streamlit_kan_inference_api(path: str, image, hidden_1: int, hidden_2: int) -> None:\n",
    "    \n",
    "    # params model\n",
    "    hidden_1 = hidden_1\n",
    "    hidden_2 = hidden_2\n",
    "    input_dim = dataset['train_input'].shape[ 1 ]   # Anzahl der Eingabefunktionen\n",
    "    output_dim = 10   # Anzahl der Klasse\n",
    "    #load model\n",
    "    if hidden_2 != 0:   \n",
    "        model = KAN(width=[input_dim, hidden_1, hidden_2, output_dim], grid= 3 , k= 3 , seed= 42)\n",
    "    else:\n",
    "        model = KAN(width=[input_dim, hidden_1, output_dim], grid= 3 , k= 3 , seed= 42) \n",
    "    model = model.loadckpt(path)\n",
    "    \n",
    "    pred_df, img = df_foward_kan(model, image,dataset)\n",
    "    \n",
    "    return pred_df, img"
   ]
  },
  {
   "cell_type": "code",
   "execution_count": 6,
   "metadata": {},
   "outputs": [
    {
     "name": "stdout",
     "output_type": "stream",
     "text": [
      "checkpoint directory created: ./model\n",
      "saving model version 0.0\n",
      "Aktuelles Verzeichnis: c:\\Users\\a829688\\OneDrive - Eviden\\Documents\\DHBW\\6 Sechstes Semester\\AML\\KAN-project\\KAN-Model\n",
      "Input shape: torch.Size([2, 64])\n",
      "Expected width: 64\n",
      "Input shape: torch.Size([60000, 64])\n",
      "Expected width: 64\n"
     ]
    }
   ],
   "source": [
    "pred_df, img = streamlit_kan_inference_api(\"./Modelle/model_mnist_h_3_s_45_g_3_k_3\",original_img,3,0)"
   ]
  },
  {
   "cell_type": "code",
   "execution_count": 7,
   "metadata": {},
   "outputs": [],
   "source": [
    "img.show()"
   ]
  },
  {
   "cell_type": "code",
   "execution_count": 8,
   "metadata": {},
   "outputs": [
    {
     "data": {
      "text/html": [
       "<div>\n",
       "<style scoped>\n",
       "    .dataframe tbody tr th:only-of-type {\n",
       "        vertical-align: middle;\n",
       "    }\n",
       "\n",
       "    .dataframe tbody tr th {\n",
       "        vertical-align: top;\n",
       "    }\n",
       "\n",
       "    .dataframe thead th {\n",
       "        text-align: right;\n",
       "    }\n",
       "</style>\n",
       "<table border=\"1\" class=\"dataframe\">\n",
       "  <thead>\n",
       "    <tr style=\"text-align: right;\">\n",
       "      <th></th>\n",
       "      <th>Wahrscheinlichkeit</th>\n",
       "    </tr>\n",
       "  </thead>\n",
       "  <tbody>\n",
       "    <tr>\n",
       "      <th>0</th>\n",
       "      <td>8.223034e-02</td>\n",
       "    </tr>\n",
       "    <tr>\n",
       "      <th>1</th>\n",
       "      <td>1.915958e-04</td>\n",
       "    </tr>\n",
       "    <tr>\n",
       "      <th>2</th>\n",
       "      <td>1.967320e-05</td>\n",
       "    </tr>\n",
       "    <tr>\n",
       "      <th>3</th>\n",
       "      <td>3.327454e-04</td>\n",
       "    </tr>\n",
       "    <tr>\n",
       "      <th>4</th>\n",
       "      <td>2.851963e-07</td>\n",
       "    </tr>\n",
       "    <tr>\n",
       "      <th>5</th>\n",
       "      <td>9.579399e-03</td>\n",
       "    </tr>\n",
       "    <tr>\n",
       "      <th>6</th>\n",
       "      <td>3.657858e-04</td>\n",
       "    </tr>\n",
       "    <tr>\n",
       "      <th>7</th>\n",
       "      <td>9.069442e-01</td>\n",
       "    </tr>\n",
       "    <tr>\n",
       "      <th>8</th>\n",
       "      <td>1.114446e-04</td>\n",
       "    </tr>\n",
       "    <tr>\n",
       "      <th>9</th>\n",
       "      <td>2.245061e-04</td>\n",
       "    </tr>\n",
       "  </tbody>\n",
       "</table>\n",
       "</div>"
      ],
      "text/plain": [
       "   Wahrscheinlichkeit\n",
       "0        8.223034e-02\n",
       "1        1.915958e-04\n",
       "2        1.967320e-05\n",
       "3        3.327454e-04\n",
       "4        2.851963e-07\n",
       "5        9.579399e-03\n",
       "6        3.657858e-04\n",
       "7        9.069442e-01\n",
       "8        1.114446e-04\n",
       "9        2.245061e-04"
      ]
     },
     "execution_count": 8,
     "metadata": {},
     "output_type": "execute_result"
    }
   ],
   "source": [
    "pred_df"
   ]
  }
 ],
 "metadata": {
  "kernelspec": {
   "display_name": "base",
   "language": "python",
   "name": "python3"
  },
  "language_info": {
   "codemirror_mode": {
    "name": "ipython",
    "version": 3
   },
   "file_extension": ".py",
   "mimetype": "text/x-python",
   "name": "python",
   "nbconvert_exporter": "python",
   "pygments_lexer": "ipython3",
   "version": "3.11.9"
  }
 },
 "nbformat": 4,
 "nbformat_minor": 2
}
